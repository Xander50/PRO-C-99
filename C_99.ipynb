{
  "nbformat": 4,
  "nbformat_minor": 0,
  "metadata": {
    "colab": {
      "provenance": [],
      "authorship_tag": "ABX9TyNdvaI6MjCOkx/LFGziunm0",
      "include_colab_link": true
    },
    "kernelspec": {
      "name": "python3",
      "display_name": "Python 3"
    },
    "language_info": {
      "name": "python"
    }
  },
  "cells": [
    {
      "cell_type": "markdown",
      "metadata": {
        "id": "view-in-github",
        "colab_type": "text"
      },
      "source": [
        "<a href=\"https://colab.research.google.com/github/Xander50/PRO-C-99/blob/main/C_99.ipynb\" target=\"_parent\"><img src=\"https://colab.research.google.com/assets/colab-badge.svg\" alt=\"Open In Colab\"/></a>"
      ]
    },
    {
      "cell_type": "code",
      "execution_count": 1,
      "metadata": {
        "colab": {
          "base_uri": "https://localhost:8080/"
        },
        "id": "VQTseqJJ_hYM",
        "outputId": "4f4c344a-dd2e-494e-db8a-677b513e49f4"
      },
      "outputs": [
        {
          "output_type": "stream",
          "name": "stdout",
          "text": [
            "*\n",
            "* *\n",
            "* * *\n",
            "* * * *\n",
            "* * * * *\n"
          ]
        }
      ],
      "source": [
        "print(\"*\")\n",
        "print(\"* *\")\n",
        "print(\"* * *\")\n",
        "print(\"* * * *\")\n",
        "print(\"* * * * *\")"
      ]
    },
    {
      "cell_type": "code",
      "source": [
        "num = int(input(\"Enter the number of rows:\"))\n",
        "for i in range(0,num):\n",
        "  for j in range(0,i+1):\n",
        "    print(\"*\",end=\" \")\n",
        "  print()  "
      ],
      "metadata": {
        "colab": {
          "base_uri": "https://localhost:8080/"
        },
        "id": "adKzKsUDAziP",
        "outputId": "91bc8bea-8be7-4478-a0de-c85f85bbdcb7"
      },
      "execution_count": 4,
      "outputs": [
        {
          "output_type": "stream",
          "name": "stdout",
          "text": [
            "Enter the number of rows:8\n",
            "* \n",
            "* * \n",
            "* * * \n",
            "* * * * \n",
            "* * * * * \n",
            "* * * * * * \n",
            "* * * * * * * \n",
            "* * * * * * * * \n"
          ]
        }
      ]
    },
    {
      "cell_type": "code",
      "source": [
        "num = int(input(\"Enter the number of rows:\"))\n",
        "for i in range(0,num):\n",
        "  for j in range(0,i+1):\n",
        "    print(\"$\",end=\" \")\n",
        "  print()  "
      ],
      "metadata": {
        "colab": {
          "base_uri": "https://localhost:8080/"
        },
        "id": "G5QngU7_CDH9",
        "outputId": "adb29436-1ed8-437e-b713-f14435eb20ad"
      },
      "execution_count": 5,
      "outputs": [
        {
          "output_type": "stream",
          "name": "stdout",
          "text": [
            "Enter the number of rows:5\n",
            "$ \n",
            "$ $ \n",
            "$ $ $ \n",
            "$ $ $ $ \n",
            "$ $ $ $ $ \n"
          ]
        }
      ]
    },
    {
      "cell_type": "code",
      "source": [
        "num = int(input(\"Enter the number of rows:\"))\n",
        "for i in range(1,num):\n",
        "  for j in range(1,i+1):\n",
        "    print(j,end=\" \")\n",
        "  print()  "
      ],
      "metadata": {
        "colab": {
          "base_uri": "https://localhost:8080/"
        },
        "id": "B7gUmoKNCbp-",
        "outputId": "ce36e59f-4667-45a7-d4c7-31381f8e796a"
      },
      "execution_count": 9,
      "outputs": [
        {
          "output_type": "stream",
          "name": "stdout",
          "text": [
            "Enter the number of rows:20\n",
            "1 \n",
            "1 2 \n",
            "1 2 3 \n",
            "1 2 3 4 \n",
            "1 2 3 4 5 \n",
            "1 2 3 4 5 6 \n",
            "1 2 3 4 5 6 7 \n",
            "1 2 3 4 5 6 7 8 \n",
            "1 2 3 4 5 6 7 8 9 \n",
            "1 2 3 4 5 6 7 8 9 10 \n",
            "1 2 3 4 5 6 7 8 9 10 11 \n",
            "1 2 3 4 5 6 7 8 9 10 11 12 \n",
            "1 2 3 4 5 6 7 8 9 10 11 12 13 \n",
            "1 2 3 4 5 6 7 8 9 10 11 12 13 14 \n",
            "1 2 3 4 5 6 7 8 9 10 11 12 13 14 15 \n",
            "1 2 3 4 5 6 7 8 9 10 11 12 13 14 15 16 \n",
            "1 2 3 4 5 6 7 8 9 10 11 12 13 14 15 16 17 \n",
            "1 2 3 4 5 6 7 8 9 10 11 12 13 14 15 16 17 18 \n",
            "1 2 3 4 5 6 7 8 9 10 11 12 13 14 15 16 17 18 19 \n"
          ]
        }
      ]
    },
    {
      "cell_type": "code",
      "source": [
        "num = int(input(\"Enter the number of rows:\"))\n",
        "for i in range(0,num):\n",
        "  for j in range(num,i,-1):\n",
        "    print(\"@\",end=\" \")\n",
        "  print()  "
      ],
      "metadata": {
        "colab": {
          "base_uri": "https://localhost:8080/"
        },
        "id": "ok_jVRiLDHZj",
        "outputId": "3505c8a8-4996-470e-a00b-07cd2250748d"
      },
      "execution_count": 12,
      "outputs": [
        {
          "output_type": "stream",
          "name": "stdout",
          "text": [
            "Enter the number of rows:10\n",
            "@ @ @ @ @ @ @ @ @ @ \n",
            "@ @ @ @ @ @ @ @ @ \n",
            "@ @ @ @ @ @ @ @ \n",
            "@ @ @ @ @ @ @ \n",
            "@ @ @ @ @ @ \n",
            "@ @ @ @ @ \n",
            "@ @ @ @ \n",
            "@ @ @ \n",
            "@ @ \n",
            "@ \n"
          ]
        }
      ]
    },
    {
      "cell_type": "code",
      "source": [
        "num = int(input(\"Enter the number of rows:\"))\n",
        "for i in range(num,0,-1):\n",
        "  for j in range(1,i+1):\n",
        "    print(j,end=\" \")\n",
        "  print()  "
      ],
      "metadata": {
        "colab": {
          "base_uri": "https://localhost:8080/"
        },
        "id": "dDNB3EuoEAhl",
        "outputId": "a61de48a-6acf-4da4-8a1c-a8f7c34e6cef"
      },
      "execution_count": 35,
      "outputs": [
        {
          "output_type": "stream",
          "name": "stdout",
          "text": [
            "Enter the number of rows:10\n",
            "1 2 3 4 5 6 7 8 9 10 \n",
            "1 2 3 4 5 6 7 8 9 \n",
            "1 2 3 4 5 6 7 8 \n",
            "1 2 3 4 5 6 7 \n",
            "1 2 3 4 5 6 \n",
            "1 2 3 4 5 \n",
            "1 2 3 4 \n",
            "1 2 3 \n",
            "1 2 \n",
            "1 \n"
          ]
        }
      ]
    }
  ]
}